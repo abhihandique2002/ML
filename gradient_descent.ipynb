{
  "nbformat": 4,
  "nbformat_minor": 0,
  "metadata": {
    "colab": {
      "provenance": []
    },
    "kernelspec": {
      "name": "python3",
      "display_name": "Python 3"
    },
    "language_info": {
      "name": "python"
    }
  },
  "cells": [
    {
      "cell_type": "code",
      "execution_count": null,
      "metadata": {
        "id": "lSMd3p-hPOSB"
      },
      "outputs": [],
      "source": [
        "import numpy as np\n"
      ]
    },
    {
      "cell_type": "code",
      "source": [
        "def gradient_descent(x,y):\n",
        "  m_curr=b_curr=0\n",
        "  iteration=1000\n",
        "  n=len(x)\n",
        "  learning_rate=0.01\n",
        "  for i in range(iteration):\n",
        "    y_predicted=m_curr*x+b_curr\n",
        "    md=-(2/n)*sum(x*(y-y_predicted))\n",
        "    bd=-(2/n)*sum(y-y_predicted)\n",
        "    m_curr=m_curr-learning_rate*md\n",
        "    b_curr=b_curr-learning_rate*bd\n",
        "    print(\"m{} , b{}, iteration{}\".format(m_curr,b_curr,i))\n",
        "    \n",
        "    x=np.array([1,2,3,4,5])\n",
        "    y=np.array([5,7,9,11,13])\n",
        "    gradient_descent(x,y)\n",
        "    \n"
      ],
      "metadata": {
        "id": "iJjkWlcXQ4dc"
      },
      "execution_count": null,
      "outputs": []
    }
  ]
}